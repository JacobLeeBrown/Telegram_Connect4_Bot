{
 "cells": [
  {
   "cell_type": "markdown",
   "metadata": {},
   "source": [
    "# A Telegram Bot - Connect 4"
   ]
  },
  {
   "cell_type": "markdown",
   "metadata": {},
   "source": [
    "First we import the key for our bot. I've placed mine in a `my_env.py` file which has a `get_token()` function that simply returns my bot's access token. If you don't have a token for your bot, follow the tutorial [here](https://github.com/python-telegram-bot/python-telegram-bot/wiki/Extensions-%E2%80%93-Your-first-Bot) to get one set up."
   ]
  },
  {
   "cell_type": "code",
   "execution_count": 1,
   "metadata": {},
   "outputs": [],
   "source": [
    "from my_env import get_token\n",
    "my_token = get_token()"
   ]
  },
  {
   "cell_type": "markdown",
   "metadata": {},
   "source": [
    "From here, I'm just following the tutorial above. First we need import the `telegram` package from the Python API (oh boy did I underestimate how difficult this would be when you have near-zero understanding of how Anaconda and Jupyter Notebooks interact)."
   ]
  },
  {
   "cell_type": "markdown",
   "metadata": {},
   "source": [
    "You'll need to install the API package from [here](https://github.com/python-telegram-bot/python-telegram-bot/blob/master/README.rst#installing). If you are able to `import telegram` at this point without error, you can skip the next cell. I was not that fortunate.\n",
    "\n",
    "This Jupyter Notebook was unable to find the package which I had installed to my Anaconda environment (after both the `pip` method and cloning the entire repo). After reading [this](https://github.com/jupyter/notebook/issues/1524) and [this](https://stackoverflow.com/questions/4383571/importing-files-from-different-folder), I came up with the solution in the following cell. It can be summed up as \"copying the Anaconda path to this notebook's path.\"\n",
    "\n",
    "Since the Python in my Anaconda environment was able to `import telegram`, I ran `import sys; sys.path` and copied that list to be returned by a function in my `my_env.py`. I then add each item to this notebook's path."
   ]
  },
  {
   "cell_type": "code",
   "execution_count": 2,
   "metadata": {},
   "outputs": [],
   "source": [
    "# Skip this if the next cell works just fine for you.\n",
    "from my_env import get_anaconda_path\n",
    "path = get_anaconda_path()\n",
    "import sys\n",
    "for p in path:\n",
    "    sys.path.insert(0, p)"
   ]
  },
  {
   "cell_type": "code",
   "execution_count": 3,
   "metadata": {},
   "outputs": [],
   "source": [
    "import telegram"
   ]
  },
  {
   "cell_type": "markdown",
   "metadata": {},
   "source": [
    "Woo hoo! It worked! Now we can actually follow the tutorial. To start working with the bot, we need to initialize an `Updater` object with the bot's token and pull the appropraite `Dispather` object from there."
   ]
  },
  {
   "cell_type": "code",
   "execution_count": 4,
   "metadata": {},
   "outputs": [],
   "source": [
    "from telegram.ext import Updater\n",
    "updater = Updater(token=my_token)\n",
    "dispatcher = updater.dispatcher"
   ]
  },
  {
   "cell_type": "markdown",
   "metadata": {},
   "source": [
    "Set up a basic logger."
   ]
  },
  {
   "cell_type": "code",
   "execution_count": 5,
   "metadata": {},
   "outputs": [],
   "source": [
    "import logging\n",
    "logging.basicConfig(format='%(asctime)s - %(name)s - %(levelname)s - %(message)s',\n",
    "                     level=logging.INFO)"
   ]
  },
  {
   "cell_type": "markdown",
   "metadata": {},
   "source": [
    "Now to begin handling each of the commands my bot supports, of which there are 4 explicit ones:\n",
    "1. `/start_game` - Initiates setup for 2 players \n",
    "2. `/p1` - Player who sends this will be designated as Player 1\n",
    "3. `/p2` - Same as `/p1`, but for Player 2\n",
    "4. `/quit` - Allows a player to concede or restart setup\n",
    "\n",
    "To do this, there's gonna need to be some bookkeeping. Obviously, there also needs to be some way of managing the Connect4 game itself. That will be done through the `Connect4` class in `Connect4.py`."
   ]
  },
  {
   "cell_type": "code",
   "execution_count": 6,
   "metadata": {},
   "outputs": [],
   "source": [
    "from Connect4 import Connect4\n",
    "## Bookkeeping Globals ##\n",
    "# Universal Values\n",
    "game = Connect4()\n",
    "setupHasStarted = False\n",
    "gameHasStarted = False\n",
    "P1 = 0\n",
    "P2 = 1\n",
    "cur_player = P1\n",
    "# Player values\n",
    "players_set = [False, False]\n",
    "players_id = [0, 0]\n",
    "players_name = ['', '']\n",
    "# Keyboard Markup\n",
    "custom_keyboard = [['1', '2', '3', '4', '5', '6', '7']]\n",
    "reply_markup = telegram.ReplyKeyboardMarkup(custom_keyboard)\n",
    "remove_markup = telegram.ReplyKeyboardRemove()"
   ]
  },
  {
   "cell_type": "code",
   "execution_count": 9,
   "metadata": {},
   "outputs": [],
   "source": [
    "## /start_game ##\n",
    "def start_game(bot, update):\n",
    "\n",
    "    chat_id = update.message.chat_id\n",
    "    text = ''\n",
    "\n",
    "    # Setup has yet to begin\n",
    "    if(not(setupHasStarted)):\n",
    "        setupHasStarted = True\n",
    "        text = (r'~~~~ Welcome to Connect 4! ~~~~' + '\\n'\n",
    "                r'  Player 1, please select /p1' + '\\n'\n",
    "                r'  Player 2, please select /p2')\n",
    "    # Setup has begun, but the game has not -> A player still needs to be set\n",
    "    elif(not(gameHasStarted)):\n",
    "        if(not(players_set[P1])):\n",
    "            text = r'Player 1 still needs to be set. Please use /p1 to do so.'\n",
    "        elif(not(players_set[P2])):\n",
    "            text = r'Player 2 still needs to be set. Please use /p2 to do so.'\n",
    "    # Game has started\n",
    "    else:\n",
    "        text = 'The game has already started silly goose!'\n",
    "\n",
    "    bot.send_message(chat_id=chat_id, text=text)"
   ]
  },
  {
   "cell_type": "code",
   "execution_count": 10,
   "metadata": {},
   "outputs": [],
   "source": [
    "def start_for_real(bot, chat_id):\n",
    "    gameHasStarted = True\n",
    "    text = 'Let the games begin!'\n",
    "    bot.send_message(chat_id=chat_id, text=text)\n",
    "    text = players_name[P1] + '\\'s turn!' + '\\n' + game.boardToString()\n",
    "    bot.send_message(chat_id=chat_id, text=text, reply_markup=reply_markup)\n",
    "\n",
    "## /p1 ##\n",
    "def p1(bot, update):\n",
    "\n",
    "    chat_id = update.message.chat_id\n",
    "    user = update.message.from_user\n",
    "\n",
    "    # Player 1 has yet to be set\n",
    "    if(not(setupHasStarted) or (setupHasStarted and not(players_set[P1]))):\n",
    "        setupHasStarted = True\n",
    "        players_set[P1]  = True\n",
    "        players_id[P1]   = user.id\n",
    "        players_name[P1] = user.first_name\n",
    "        text = players_name[P1] + r' has been set as Player 1.'\n",
    "        bot.send_message(chat_id=chat_id, text=text)\n",
    "    # Player 1 is set but game has not started\n",
    "    elif(players_set[P1] and not(gameHasStarted)):\n",
    "        text = players_name[P1] + r' is already Player 1!'\n",
    "        bot.send_message(chat_id=chat_id, text=text)\n",
    "    \n",
    "    # If both players are set, start the game!\n",
    "    if(players_set[P2] and not(gameHasStarted)):\n",
    "        start_for_real(bot, chat_id)\n",
    "    \n",
    "## /p2 ##\n",
    "def p2(bot, update):\n",
    "\n",
    "    chat_id = update.message.chat_id\n",
    "    user = update.message.from_user\n",
    "\n",
    "    # Player 2 has yet to be set\n",
    "    if(not(setupHasStarted) or (setupHasStarted and not(players_set[P2]))):\n",
    "        setupHasStarted = True\n",
    "        players_set[P2]  = True\n",
    "        players_id[P2]   = user.id\n",
    "        players_name[P2] = user.first_name\n",
    "        text = players_name[P2] + r' has been set as Player 2.'\n",
    "        bot.send_message(chat_id=chat_id, text=text)\n",
    "    # Player 2 is set but game has not started\n",
    "    elif(players_set[P2] and not(gameHasStarted)):\n",
    "        text = players_name[P2] + r' is already Player 2!'\n",
    "        bot.send_message(chat_id=chat_id, text=text)\n",
    "    \n",
    "    # If both players are set, start the game!\n",
    "    if(players_set[P1] and not(gameHasStarted)):\n",
    "        start_for_real(bot, chat_id)"
   ]
  },
  {
   "cell_type": "code",
   "execution_count": 11,
   "metadata": {},
   "outputs": [],
   "source": [
    "def reset_game():\n",
    "    game.reset()\n",
    "    setupHasStarted = False\n",
    "    gameHasStarted = False\n",
    "    cur_player = 0\n",
    "    \n",
    "    players_set = [False, False]\n",
    "    players_id = [0, 0]\n",
    "    players_name = ['', '']\n",
    "\n",
    "## /quit ##\n",
    "def quit(bot, update):\n",
    "\n",
    "    chat_id = update.message.chat_id\n",
    "    text = ''\n",
    "\n",
    "    if(not(setupHasStarted)):\n",
    "        text = (r\"You can't quit a game that hasn't even started yet...\" + '\\n'\n",
    "                r'Use /start_game to being setup.')\n",
    "    elif(not(gameHasStarted)):\n",
    "        text = 'Resetting setup.'\n",
    "        reset_game()\n",
    "    elif(players_id[P1] == user_id):\n",
    "        text = players_name[P1] + ' is a quitter! ' + players_name[P2] + ' wins!'\n",
    "        reset_game()\n",
    "    elif(players_id[P2] == user_id):\n",
    "        text = players_name[P2] + ' is a quitter! ' + players_name[P1] + ' wins!'\n",
    "        reset_game()\n",
    "\n",
    "    bot.send_message(chat_id=chat_id, text=text, reply_markup=remove_markup)"
   ]
  },
  {
   "cell_type": "markdown",
   "metadata": {},
   "source": [
    "Now that all the commands are ready, we need to register them with the dispatcher."
   ]
  },
  {
   "cell_type": "code",
   "execution_count": 12,
   "metadata": {},
   "outputs": [],
   "source": [
    "from telegram.ext import CommandHandler\n",
    "start_game_handler  = CommandHandler('start_game', start_game)\n",
    "p1_handler          = CommandHandler('p1', p1)\n",
    "p2_handler          = CommandHandler('p2', p2)\n",
    "quit_handler        = CommandHandler('quit', quit)\n",
    "\n",
    "dispatcher.add_handler(start_game_handler)\n",
    "dispatcher.add_handler(p1_handler)\n",
    "dispatcher.add_handler(p2_handler)\n",
    "dispatcher.add_handler(quit_handler)"
   ]
  },
  {
   "cell_type": "markdown",
   "metadata": {},
   "source": [
    "Now the bot will respond to each of the commands. When the game of Connect 4 starts, the player will be able to send messages with the reply keyboard. These will not be formatted as commands, but rather just normal text messages. Luckily, the Python API makes it easy to handle such messages."
   ]
  },
  {
   "cell_type": "code",
   "execution_count": 13,
   "metadata": {},
   "outputs": [],
   "source": [
    "def next_player():\n",
    "    if(cur_player == 1):\n",
    "        cur_player = 2\n",
    "    elif(cur_player == 2):\n",
    "        cur_player = 1\n",
    "\n",
    "def handle_move(bot, chat_id, cur_player, col):\n",
    "    \n",
    "    res = game.placeChip(cur_player, col)\n",
    "    \n",
    "    if(res == -1):\n",
    "        text = \"You can't place a chip there! Try again.\"\n",
    "        bot.send_message(chat_id=chat_id, text=text)\n",
    "    elif(res == 0):\n",
    "        next_player()\n",
    "        text = players_name[cur_player] + '\\'s turn!' + '\\n' + game.boardToString()\n",
    "        bot.send_message(chat_id=chat_id, text=text)\n",
    "    elif(res == 1):\n",
    "        text = players_name[cur_player] + ' wins the game!'\n",
    "        reset_game()\n",
    "        bot.send_message(chat_id=chat_id, text=text, reply_markup=remove_markup)\n",
    "    else:\n",
    "        text = 'Well... it\\'s a tie... good job... I guess.'\n",
    "        reset_game()\n",
    "        bot.send_message(chat_id=chat_id, text=text, reply_markup=remove_markup)\n",
    "\n",
    "import string\n",
    "def place_chip(bot, update):\n",
    "\n",
    "    text = update.message.text\n",
    "    chat_id = update.message.chat_id\n",
    "    user_id = update.message.from_user.id\n",
    "\n",
    "    if(text in string.digits and int(text) >= 1 and int(text) <= 7):\n",
    "        if(gameHasStarted):\n",
    "            if((cur_player == 1 and not(players_id[P1] == user_id)) or\n",
    "               (cur_player == 2 and not(players_id[P2] == user_id))):\n",
    "                text = 'It is not your turn!'\n",
    "                bot.send_message(chat_id=chat_id, text=text)\n",
    "            else:\n",
    "                handle_move(bot, chat_id, cur_player, int(text))"
   ]
  },
  {
   "cell_type": "markdown",
   "metadata": {},
   "source": [
    "Now to register the appropriate method just like with the commands."
   ]
  },
  {
   "cell_type": "code",
   "execution_count": 14,
   "metadata": {},
   "outputs": [],
   "source": [
    "from telegram.ext import MessageHandler, Filters\n",
    "place_chip_handler = MessageHandler(Filters.text, place_chip)\n",
    "dispatcher.add_handler(place_chip_handler)"
   ]
  },
  {
   "cell_type": "markdown",
   "metadata": {},
   "source": [
    "And that's that! Everything should be in place for the bot to function at the basic level. it just needs to run!"
   ]
  },
  {
   "cell_type": "code",
   "execution_count": 15,
   "metadata": {},
   "outputs": [
    {
     "data": {
      "text/plain": [
       "<queue.Queue at 0x26801f722e8>"
      ]
     },
     "execution_count": 15,
     "metadata": {},
     "output_type": "execute_result"
    },
    {
     "name": "stderr",
     "output_type": "stream",
     "text": [
      "2019-01-03 17:53:44,802 - telegram.ext.dispatcher - ERROR - An uncaught error was raised while processing the update\n",
      "Traceback (most recent call last):\n",
      "  File \"C:\\Users\\JLBGr\\Anaconda3\\envs\\py37\\lib\\site-packages\\python_telegram_bot-11.1.0-py3.7.egg\\telegram\\ext\\dispatcher.py\", line 301, in process_update\n",
      "    handler.handle_update(update, self)\n",
      "  File \"C:\\Users\\JLBGr\\Anaconda3\\envs\\py37\\lib\\site-packages\\python_telegram_bot-11.1.0-py3.7.egg\\telegram\\ext\\commandhandler.py\", line 173, in handle_update\n",
      "    return self.callback(dispatcher.bot, update, **optional_args)\n",
      "  File \"<ipython-input-9-6f9f4ceb9cfa>\", line 8, in start_game\n",
      "    if(not(setupHasStarted)):\n",
      "UnboundLocalError: local variable 'setupHasStarted' referenced before assignment\n"
     ]
    }
   ],
   "source": [
    "# Starts the bot on a separate thread\n",
    "updater.start_polling()"
   ]
  },
  {
   "cell_type": "code",
   "execution_count": 16,
   "metadata": {},
   "outputs": [],
   "source": [
    "# Stops the bot\n",
    "updater.stop()"
   ]
  },
  {
   "cell_type": "markdown",
   "metadata": {},
   "source": [
    "Well, look at that, the bot is unable to read the global `setupHasStarted` variable. This is because the dispatcher is only taking the methods themselves as inputs, not all the external references they might have. The solution I'll use (as discussed [here](https://github.com/python-telegram-bot/python-telegram-bot/issues/1002)) is to wrap everything in a class and use `self` references to access the \"global\" values. This has been done in `Connect4_Bot.py`.\n",
    "\n",
    "Error logging and intitialization is now in `bot_script.py`, so we can use the following cell to kick everything off!"
   ]
  },
  {
   "cell_type": "code",
   "execution_count": 7,
   "metadata": {},
   "outputs": [
    {
     "name": "stderr",
     "output_type": "stream",
     "text": [
      "2019-01-03 20:47:13,711 - telegram.ext.updater - INFO - Received signal 2 (SIGINT), stopping...\n"
     ]
    }
   ],
   "source": [
    "# Thanks to updater.idle(), we can cleanly interrupt the kernel\n",
    "# (Ctrl+C in command line, the \"Stop\"  button in Jupyter Notebook)\n",
    "# to stop the bot.\n",
    "exec(open(\"bot_script.py\").read())"
   ]
  }
 ],
 "metadata": {
  "kernelspec": {
   "display_name": "Python 3",
   "language": "python",
   "name": "python3"
  },
  "language_info": {
   "codemirror_mode": {
    "name": "ipython",
    "version": 3
   },
   "file_extension": ".py",
   "mimetype": "text/x-python",
   "name": "python",
   "nbconvert_exporter": "python",
   "pygments_lexer": "ipython3",
   "version": "3.6.5"
  }
 },
 "nbformat": 4,
 "nbformat_minor": 2
}
