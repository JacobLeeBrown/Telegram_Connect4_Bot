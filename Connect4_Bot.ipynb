{
 "cells": [
  {
   "cell_type": "markdown",
   "metadata": {},
   "source": [
    "# A Telegram Bot - Connect 4"
   ]
  },
  {
   "cell_type": "markdown",
   "metadata": {},
   "source": [
    "Hello! This notebook is meant to be a \"tutorial-by-doing\" for setting up a [Telegram](https://telegram.org/) chat bot, in particular one that allows two people to play Connect 4 in a group chat that the bot is also in.\n",
    "\n",
    "If you haven't already, I heavily suggest you take a look at the Telegram [Bot API](https://core.telegram.org/bots) as well as the [introduction](https://github.com/python-telegram-bot/python-telegram-bot#introduction) to the [Python Telegram API](https://github.com/python-telegram-bot/python-telegram-bot). Additionally, the steps taken in this notebook heavily follow the tutorial [here](https://github.com/python-telegram-bot/python-telegram-bot/wiki/Extensions-%E2%80%93-Your-first-Bot), so be sure to reference that if anything becomes unclear."
   ]
  },
  {
   "cell_type": "markdown",
   "metadata": {},
   "source": [
    "For the private values needed throughout this tutorial, I've placed them in a file named `my_env.py`. First we'll pull the bot's access token into local scope."
   ]
  },
  {
   "cell_type": "code",
   "execution_count": 1,
   "metadata": {
    "collapsed": true
   },
   "outputs": [],
   "source": [
    "import my_env as env\n",
    "my_token = env.connect4_token"
   ]
  },
  {
   "cell_type": "markdown",
   "metadata": {},
   "source": [
    "From here, I'm just following the tutorial above. First we need import the `telegram` package from the Python API (oh boy did I underestimate how difficult this would be when you have near-zero understanding of how Anaconda and Jupyter Notebooks interact)."
   ]
  },
  {
   "cell_type": "markdown",
   "metadata": {},
   "source": [
    "You'll need to install the API package from [here](https://github.com/python-telegram-bot/python-telegram-bot/blob/master/README.rst#installing). If you are able to `import telegram` at this point without error, you can skip the next cell. I was not that fortunate.\n",
    "\n",
    "This Jupyter Notebook was unable to find the package which I had installed to my Anaconda environment (after both the `pip` method and cloning the entire repo). After reading [this](https://github.com/jupyter/notebook/issues/1524) and [this](https://stackoverflow.com/questions/4383571/importing-files-from-different-folder), I came up with the solution in the following cell. It can be summed up as \"copying the Anaconda path to this notebook's path.\"\n",
    "\n",
    "Since the Python in my Anaconda environment was able to `import telegram`, I knew the path used there was correct. I ran `import sys; sys.path` and copied that list to `my_env.py`. I then add each item to this notebook's path."
   ]
  },
  {
   "cell_type": "code",
   "execution_count": 2,
   "metadata": {
    "collapsed": true
   },
   "outputs": [],
   "source": [
    "# Skip this if the next cell works just fine for you.\n",
    "path = env.anaconda_path\n",
    "import sys\n",
    "for p in path:\n",
    "    sys.path.insert(0, p)"
   ]
  },
  {
   "cell_type": "code",
   "execution_count": 3,
   "metadata": {
    "collapsed": true
   },
   "outputs": [],
   "source": [
    "import telegram"
   ]
  },
  {
   "cell_type": "markdown",
   "metadata": {},
   "source": [
    "Woo hoo! It worked! Now we can actually follow the tutorial. To start working with the bot, we need to initialize an `Updater` object with the bot's token and pull the appropriate `Dispather` object from there."
   ]
  },
  {
   "cell_type": "code",
   "execution_count": 4,
   "metadata": {
    "collapsed": true
   },
   "outputs": [],
   "source": [
    "from telegram.ext import Updater\n",
    "updater = Updater(token=my_token)\n",
    "dispatcher = updater.dispatcher"
   ]
  },
  {
   "cell_type": "markdown",
   "metadata": {},
   "source": [
    "Now to begin handling each of the commands my bot supports, of which there are 4 explicit ones:\n",
    "1. `/start_game` - Initiates setup for 2 players \n",
    "2. `/p1` - Player who sends this will be designated as Player 1\n",
    "3. `/p2` - Same as `/p1`, but for Player 2\n",
    "4. `/quit` - Allows a player to concede or restart setup\n",
    "\n",
    "Once the game is started, the players can use the custom reply keyboard markup to select which column to place their chips, meaning the bot will also have to handle plain text messages. In order for Telegram to even pass normal text messages to your bot, you need to turn \"Group Privacy\" off via the BotFather.\n",
    "\n",
    "To do all this, there's gonna need to be some bookkeeping. Obviously, there also needs to be some way of managing the Connect4 game itself. That will be done through the `Connect4` class in `Connect4.py`.\n",
    "\n",
    "Something I didn't realize until much later is that method handlers registered with the dispatcher won't be able to access values in this notebook's scope (meaning global variables in this notebook do no good). To \"get around\" this (as discussed [here](https://github.com/python-telegram-bot/python-telegram-bot/issues/1002)), we can wrap everything in a class and use `self` references to access the \"global\" values."
   ]
  },
  {
   "cell_type": "code",
   "execution_count": 5,
   "metadata": {
    "collapsed": true
   },
   "outputs": [],
   "source": [
    "# Connect4_Bot.py\n",
    "import string\n",
    "from telegram import ReplyKeyboardMarkup, ReplyKeyboardRemove\n",
    "\n",
    "class Connect4_Bot(object):\n",
    "\n",
    "    def __init__(self, game):\n",
    "        ## Bookkeeping Globals ##\n",
    "        # Universal Values\n",
    "        self.game            = game\n",
    "        self.setupHasStarted = False\n",
    "        self.gameHasStarted  = False\n",
    "        self.p_cur           = 0\n",
    "        # Player values\n",
    "        self.p_set           = [False, False]\n",
    "        self.p_id            = [0, 0]\n",
    "        self.p_name          = ['', '']\n",
    "        # Keyboard Markup\n",
    "        custom_keyboard = [['1', '2', '3', '4', '5', '6', '7']]\n",
    "        self.rp_markup  = ReplyKeyboardMarkup(custom_keyboard)\n",
    "        self.rm_markup  = ReplyKeyboardRemove()\n",
    "\n",
    "    ### The Commands ###\n",
    "\n",
    "    # /start_game\n",
    "    def start_game(self, bot, update):\n",
    "\n",
    "        chat_id = update.message.chat_id\n",
    "        text = ''\n",
    "\n",
    "        # Setup has yet to begin\n",
    "        if(not(self.setupHasStarted)):\n",
    "            self.setupHasStarted = True\n",
    "            text = (r'~~~~ Welcome to Connect 4! ~~~~' + '\\n'\n",
    "                    r'  Player 1, please select /p1' + '\\n'\n",
    "                    r'  Player 2, please select /p2')\n",
    "        # Setup has begun, but a player still needs to be set\n",
    "        elif(not(self.gameHasStarted)):\n",
    "            if(not(self.p_set[0])):\n",
    "                text = r'Player 1 still needs to be set. Use /p1 to do so.'\n",
    "            elif(not(self.p_set[1])):\n",
    "                text = r'Player 2 still needs to be set. Use /p2 to do so.'\n",
    "        # Game has started\n",
    "        else:\n",
    "            text = 'The game has already started silly goose!'\n",
    "\n",
    "        bot.send_message(chat_id=chat_id, text=text)\n",
    "\n",
    "    # /p1\n",
    "    def p1(self, bot, update):\n",
    "\n",
    "        chat_id = update.message.chat_id\n",
    "        user = update.message.from_user\n",
    "\n",
    "        # Player 1 has yet to be set\n",
    "        if(not(self.setupHasStarted) or \n",
    "           (self.setupHasStarted and not(self.p_set[0]))):\n",
    "            self.setupHasStarted = True\n",
    "            self.p_set[0]  = True\n",
    "            self.p_id[0]   = user.id\n",
    "            self.p_name[0] = user.first_name\n",
    "            text = self.p_name[0] + r' has been set as Player 1.'\n",
    "            bot.send_message(chat_id=chat_id, text=text)\n",
    "        # Player 1 is set but game has not started\n",
    "        elif(self.p_set[0] and not(self.gameHasStarted)):\n",
    "            text = self.p_name[0] + r' is already Player 1!'\n",
    "            bot.send_message(chat_id=chat_id, text=text)\n",
    "        \n",
    "        # If both players are set, start the game!\n",
    "        if(self.p_set[1] and not(self.gameHasStarted)):\n",
    "            self.start_for_real(bot, chat_id)\n",
    "\n",
    "    # /p2\n",
    "    def p2(self, bot, update):\n",
    "\n",
    "        chat_id = update.message.chat_id\n",
    "        user = update.message.from_user\n",
    "\n",
    "        # Player 2 has yet to be set\n",
    "        if(not(self.setupHasStarted) or \n",
    "           (self.setupHasStarted and not(self.p_set[1]))):\n",
    "            self.setupHasStarted = True\n",
    "            self.p_set[1]  = True\n",
    "            self.p_id[1]   = user.id\n",
    "            self.p_name[1] = user.first_name\n",
    "            text = self.p_name[1] + r' has been set as Player 2.'\n",
    "            bot.send_message(chat_id=chat_id, text=text)\n",
    "        # Player 2 is set but game has not started\n",
    "        elif(self.p_set[1] and not(self.gameHasStarted)):\n",
    "            text = self.p_name[1] + r' is already Player 2!'\n",
    "            bot.send_message(chat_id=chat_id, text=text)\n",
    "        \n",
    "        # If both players are set, start the game!\n",
    "        if(self.p_set[0] and not(self.gameHasStarted)):\n",
    "            self.start_for_real(bot, chat_id)\n",
    "\n",
    "    # /quit\n",
    "    def quit(self, bot, update):\n",
    "\n",
    "        chat_id = update.message.chat_id\n",
    "        text = ''\n",
    "\n",
    "        if(not(self.setupHasStarted)):\n",
    "            text = (r\"You can't quit a game that hasn't even started yet...\"\n",
    "                    '\\n' + r'Use /start_game to being setup.')\n",
    "        elif(not(self.gameHasStarted)):\n",
    "            text = 'Resetting setup.'\n",
    "            self.reset_game()\n",
    "        elif(self.p_id[0] == user_id):\n",
    "            text = self.p_name[0]+' is a quitter! ' + self.p_name[1]+' wins!'\n",
    "            self.reset_game()\n",
    "        elif(self.p_id[1] == user_id):\n",
    "            text = self.p_name[1]+' is a quitter! ' + self.p_name[0]+' wins!'\n",
    "            self.reset_game()\n",
    "\n",
    "        bot.send_message(chat_id=chat_id, text=text, \n",
    "                         reply_markup=self.rm_markup)\n",
    "\n",
    "    ### Command Helpers ###\n",
    "\n",
    "    def start_for_real(self, bot, chat_id):\n",
    "        self.gameHasStarted = True\n",
    "        text = 'Let the games begin!'\n",
    "        bot.send_message(chat_id=chat_id, text=text)\n",
    "        text = self.p_name[0] + '\\'s turn!' + '\\n' + self.game.boardToEmojis()\n",
    "        bot.send_message(chat_id=chat_id, text=text, \n",
    "                         reply_markup=self.rp_markup)\n",
    "\n",
    "    def reset_game(self):\n",
    "        self.game.reset()\n",
    "        self.setupHasStarted = False\n",
    "        self.gameHasStarted = False\n",
    "        self.p_cur = 0\n",
    "        \n",
    "        self.p_set = [False, False]\n",
    "        self.p_id = [0, 0]\n",
    "        self.p_name = ['', '']\n",
    "\n",
    "    ### Player Actions ###\n",
    "\n",
    "    def place_chip(self, bot, update):\n",
    "\n",
    "        text = update.message.text\n",
    "        chat_id = update.message.chat_id\n",
    "        user_id = update.message.from_user.id\n",
    "\n",
    "        if(text in string.digits and int(text) >= 1 and int(text) <= 7):\n",
    "            if(self.gameHasStarted):\n",
    "                if((self.p_cur == 1 and not(self.p_id[0] == user_id)) or\n",
    "                   (self.p_cur == 2 and not(self.p_id[1] == user_id))):\n",
    "                    text = 'It is not your turn!'\n",
    "                    bot.send_message(chat_id=chat_id, text=text)\n",
    "                else:\n",
    "                    self.handle_move(bot, chat_id, int(text))\n",
    "\n",
    "    ### Helpers ###\n",
    "\n",
    "    def next_player(self):\n",
    "        if(self.p_cur == 0):\n",
    "            self.p_cur = 1\n",
    "        elif(self.p_cur == 1):\n",
    "            self.p_cur = 0\n",
    "\n",
    "    def handle_move(self, bot, chat_id, col):\n",
    "        \n",
    "        res = self.game.placeChip(self.p_cur+1, col)\n",
    "        \n",
    "        if(res == -1):\n",
    "            text = \"You can't place a chip there! Try again.\"\n",
    "            bot.send_message(chat_id=chat_id, text=text)\n",
    "        elif(res == 0):\n",
    "            self.next_player()\n",
    "            text = (self.p_name[self.p_cur] + '\\'s turn!'\n",
    "                    '\\n' + self.game.boardToEmojis())\n",
    "            bot.send_message(chat_id=chat_id, text=text)\n",
    "        elif(res == 1):\n",
    "            text = (self.p_name[self.p_cur] + ' wins!'\n",
    "                    '\\n' + self.game.boardToEmojis())\n",
    "            self.reset_game()\n",
    "            bot.send_message(chat_id=chat_id, text=text, \n",
    "                             reply_markup=self.rm_markup)\n",
    "        else:\n",
    "            text = ('Well... it\\'s a tie... good job... I guess.'\n",
    "                    '\\n' + self.game.boardToEmojis())\n",
    "            self.reset_game()\n",
    "            bot.send_message(chat_id=chat_id, text=text, \n",
    "                             reply_markup=self.rm_markup)\n"
   ]
  },
  {
   "cell_type": "markdown",
   "metadata": {},
   "source": [
    "Now that all the commands are ready, we need to register them with the dispatcher. Before we get to that, however, I want to add a filter such that only designated users can interact with my chat bot."
   ]
  },
  {
   "cell_type": "code",
   "execution_count": 6,
   "metadata": {
    "collapsed": true
   },
   "outputs": [],
   "source": [
    "from telegram.ext import BaseFilter\n",
    "class WhitelistFilter(BaseFilter):\n",
    "    def __init__(self, whitelist):\n",
    "        self.whitelist = whitelist\n",
    "\n",
    "    def filter(self, message):\n",
    "        return message.from_user.id in self.whitelist\n",
    "my_filter = WhitelistFilter(env.user_whitelist)"
   ]
  },
  {
   "cell_type": "markdown",
   "metadata": {},
   "source": [
    "`CommandHandler`s have a `filters` attribute on top of taking the command name and callback method. The first parameter of the `MessageHandler` class takes a filter as well. Note that filters can be combined with binary operators (`&`, `|`, and `~`, which are `and`, `or`, and `not`, respectively).\n",
    "\n",
    "Now that the whitelist filter is ready, we can register all of the commands with the dispatcher."
   ]
  },
  {
   "cell_type": "code",
   "execution_count": 7,
   "metadata": {
    "collapsed": true
   },
   "outputs": [],
   "source": [
    "# Need to initialize the Connect4 wrapper to add its methods to the handlers\n",
    "from Connect4 import Connect4\n",
    "game = Connect4()\n",
    "my_bot = Connect4_Bot(game)\n",
    "\n",
    "# Create all handlers for the bot\n",
    "from telegram.ext import CommandHandler\n",
    "start_game_handler  = CommandHandler('start_game', my_bot.start_game, \n",
    "                                     filters=my_filter)\n",
    "p1_handler          = CommandHandler('p1', my_bot.p1, filters=my_filter)\n",
    "p2_handler          = CommandHandler('p2', my_bot.p2, filters=my_filter)\n",
    "quit_handler        = CommandHandler('quit', my_bot.quit, filters=my_filter)\n",
    "\n",
    "from telegram.ext import MessageHandler, Filters\n",
    "# Filters.text means the message must be text only\n",
    "place_chip_handler = MessageHandler((Filters.text & my_filter), \n",
    "                                    my_bot.place_chip)\n",
    "\n",
    "# Add all of the handlers to the dispatcher\n",
    "dispatcher.add_handler(start_game_handler)\n",
    "dispatcher.add_handler(p1_handler)\n",
    "dispatcher.add_handler(p2_handler)\n",
    "dispatcher.add_handler(quit_handler)\n",
    "dispatcher.add_handler(place_chip_handler)"
   ]
  },
  {
   "cell_type": "markdown",
   "metadata": {},
   "source": [
    "And that's that! Everything should be in place for the bot to function at the basic level. it just needs to run!"
   ]
  },
  {
   "cell_type": "code",
   "execution_count": 8,
   "metadata": {},
   "outputs": [
    {
     "data": {
      "text/plain": [
       "<queue.Queue at 0x21a9a2d22e8>"
      ]
     },
     "execution_count": 8,
     "metadata": {},
     "output_type": "execute_result"
    }
   ],
   "source": [
    "# Starts the bot on a separate thread, meaning you have to use `updater.stop()`\n",
    "# to halt it\n",
    "updater.start_polling()"
   ]
  },
  {
   "cell_type": "code",
   "execution_count": 9,
   "metadata": {
    "collapsed": true
   },
   "outputs": [],
   "source": [
    "# Stops the bot\n",
    "updater.stop()"
   ]
  },
  {
   "cell_type": "markdown",
   "metadata": {},
   "source": [
    "There are a few more intricacies and \"good habits\" concerning proper bot execution, but I'm definitely not one to effectively relay that knowledge. I suggest checking out the [code snippets](https://github.com/python-telegram-bot/python-telegram-bot/wiki/Code-snippets) and Python bot [examples](https://github.com/python-telegram-bot/python-telegram-bot/wiki/Examples) to get a better idea of how your bot should be structured and utilize.\n",
    "\n",
    "Further note that the `Connect4_Bot` class above is just for quick reference from within this notebook, and the most up-to-date version can be found in `Connect4_Bot.py`. Additionally, this has all been set up to be run via a script, see `bot_script.py` to figure out how to set something like that up."
   ]
  }
 ],
 "metadata": {
  "kernelspec": {
   "display_name": "Python 3",
   "language": "python",
   "name": "python3"
  },
  "language_info": {
   "codemirror_mode": {
    "name": "ipython",
    "version": 3
   },
   "file_extension": ".py",
   "mimetype": "text/x-python",
   "name": "python",
   "nbconvert_exporter": "python",
   "pygments_lexer": "ipython3",
   "version": "3.6.1"
  }
 },
 "nbformat": 4,
 "nbformat_minor": 2
}
