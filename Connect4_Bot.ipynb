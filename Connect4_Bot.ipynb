{
 "cells": [
  {
   "cell_type": "markdown",
   "metadata": {},
   "source": [
    "# A Telegram Bot - Connect 4"
   ]
  },
  {
   "cell_type": "markdown",
   "metadata": {},
   "source": [
    "First we import the key for our bot. I've placed mine in a `my_env.py` file which has a `get_token()` function that simply returns my bot's access token. If you don't have a token for your bot, follow the tutorial [here](https://github.com/python-telegram-bot/python-telegram-bot/wiki/Extensions-%E2%80%93-Your-first-Bot) to get one set up."
   ]
  },
  {
   "cell_type": "code",
   "execution_count": 7,
   "metadata": {},
   "outputs": [],
   "source": [
    "from my_env import get_token\n",
    "my_token = get_token()"
   ]
  },
  {
   "cell_type": "markdown",
   "metadata": {},
   "source": [
    "From here, I'm just following the tutorial above. First we need import the `telegram` package from the Python API (oh boy did I underestimate how difficult this would be when you have near-zero understanding of how Anaconda and Jupyter Notebooks interact)."
   ]
  },
  {
   "cell_type": "markdown",
   "metadata": {},
   "source": [
    "You'll need to install the API package from [here](https://github.com/python-telegram-bot/python-telegram-bot/blob/master/README.rst#installing). If you are able to `import telegram` at this point without error, you can skip the next cell. I was not that fortunate.\n",
    "\n",
    "This Jupyter Notebook was unable to find the package which I had installed to my Anaconda environment (after both the `pip` method and cloning the entire repo). After reading [this](https://github.com/jupyter/notebook/issues/1524) and [this](https://stackoverflow.com/questions/4383571/importing-files-from-different-folder), I came up with the solution in the following cell. It can be summed up as \"copying the Anaconda path to this notebook's path.\"\n",
    "\n",
    "Since the Python in my Anaconda environment was able to `import telegram`, I ran `import sys; sys.path` and copied that list to be returned by a function in my `my_env.py`. I then add each item to this notebook's path."
   ]
  },
  {
   "cell_type": "code",
   "execution_count": 4,
   "metadata": {},
   "outputs": [],
   "source": [
    "# Skip this if the next cell works just fine for you.\n",
    "from my_env import get_anaconda_path\n",
    "path = get_anaconda_path()\n",
    "import sys\n",
    "for p in path:\n",
    "    sys.path.insert(0, p)"
   ]
  },
  {
   "cell_type": "code",
   "execution_count": 3,
   "metadata": {},
   "outputs": [],
   "source": [
    "import telegram"
   ]
  },
  {
   "cell_type": "markdown",
   "metadata": {},
   "source": [
    "Woo hoo! It worked! Now we can actually follow the tutorial. To start working with the bot, we need to initialize an `Updater` object with the bot's token and pull the appropraite `Dispather` object from there."
   ]
  },
  {
   "cell_type": "code",
   "execution_count": 8,
   "metadata": {},
   "outputs": [],
   "source": [
    "from telegram.ext import Updater\n",
    "updater = Updater(token=my_token)\n",
    "dispatcher = updater.dispatcher"
   ]
  },
  {
   "cell_type": "markdown",
   "metadata": {},
   "source": [
    "Set up a basic logger."
   ]
  },
  {
   "cell_type": "code",
   "execution_count": 9,
   "metadata": {},
   "outputs": [],
   "source": [
    "import logging\n",
    "logging.basicConfig(format='%(asctime)s - %(name)s - %(levelname)s - %(message)s',\n",
    "                     level=logging.INFO)"
   ]
  },
  {
   "cell_type": "code",
   "execution_count": null,
   "metadata": {},
   "outputs": [],
   "source": []
  }
 ],
 "metadata": {
  "kernelspec": {
   "display_name": "Python 3",
   "language": "python",
   "name": "python3"
  },
  "language_info": {
   "codemirror_mode": {
    "name": "ipython",
    "version": 3
   },
   "file_extension": ".py",
   "mimetype": "text/x-python",
   "name": "python",
   "nbconvert_exporter": "python",
   "pygments_lexer": "ipython3",
   "version": "3.6.5"
  }
 },
 "nbformat": 4,
 "nbformat_minor": 2
}
